{
 "cells": [
  {
   "cell_type": "code",
   "execution_count": null,
   "id": "020c600d",
   "metadata": {},
   "outputs": [],
   "source": [
    "1.\tWrite a Python program to print \"Hello Python\"?"
   ]
  },
  {
   "cell_type": "code",
   "execution_count": 2,
   "id": "e80dcca0",
   "metadata": {},
   "outputs": [
    {
     "name": "stdout",
     "output_type": "stream",
     "text": [
      "Hello Python\n"
     ]
    }
   ],
   "source": [
    "ANS:\n",
    "print(\"Hello Python\")"
   ]
  },
  {
   "cell_type": "code",
   "execution_count": null,
   "id": "474f5f5a",
   "metadata": {},
   "outputs": [],
   "source": [
    "2.\tWrite a Python program to do arithmetical operations addition and division.?"
   ]
  },
  {
   "cell_type": "code",
   "execution_count": 9,
   "id": "15f58862",
   "metadata": {},
   "outputs": [
    {
     "name": "stdout",
     "output_type": "stream",
     "text": [
      "Enter 1st value \n",
      "10\n",
      "Enter 2nd value \n",
      "2\n",
      "The sum of two numbers is 12.0\n",
      "The Subraction of two numbers is 8.0\n",
      "The Multiplication of two numbers is 20.0\n",
      "The Division of two numbers is 5.0\n"
     ]
    }
   ],
   "source": [
    "ANS::\n",
    "a = float(input(\"Enter 1st value \\n\"))\n",
    "b = float(input(\"Enter 2nd value \\n\"))\n",
    "\n",
    "c = a+b\n",
    "print(\"The sum of two numbers is\", c) #Addition\n",
    "\n",
    "d = a-b\n",
    "print(\"The Subraction of two numbers is\",d) # Subraction\n",
    "\n",
    "e = a*b\n",
    "print(\"The Multiplication of two numbers is\", e) # Multiplication\n",
    "\n",
    "f = a/b\n",
    "print(\"The Division of two numbers is\", f) #Division"
   ]
  },
  {
   "cell_type": "code",
   "execution_count": null,
   "id": "7d549fce",
   "metadata": {},
   "outputs": [],
   "source": [
    "3.\tWrite a Python program to find the area of a triangle?"
   ]
  },
  {
   "cell_type": "code",
   "execution_count": 11,
   "id": "406c447a",
   "metadata": {},
   "outputs": [
    {
     "name": "stdout",
     "output_type": "stream",
     "text": [
      "Enter the height of the Triangle 3.5\n",
      "Enter the base of the Triangle 2.5\n",
      "Area of the Triangle is  4.375\n"
     ]
    }
   ],
   "source": [
    "ANS:\n",
    "a=float(input(\"Enter the height of the Triangle \", ))\n",
    "b=float(input(\"Enter the base of the Triangle \",  ))\n",
    "\n",
    "m=0.5*a*b\n",
    "\n",
    "print(\"Area of the Triangle is \", m)"
   ]
  },
  {
   "cell_type": "code",
   "execution_count": null,
   "id": "673437f1",
   "metadata": {},
   "outputs": [],
   "source": [
    "4.\tWrite a Python program to swap two variables?"
   ]
  },
  {
   "cell_type": "code",
   "execution_count": 13,
   "id": "6ef7b68d",
   "metadata": {},
   "outputs": [
    {
     "name": "stdout",
     "output_type": "stream",
     "text": [
      "Enter the value of 1st variable 2\n",
      "Enter the value of 2nd variable 5\n",
      "Values of the variables before swapping\n",
      "Value of a is  2.0\n",
      "Value of b is  5.0\n",
      "Values of the variables After swapping\n",
      "Value of a is  5.0\n",
      "Value of b is  2.0\n"
     ]
    }
   ],
   "source": [
    "ANS:\n",
    "a=float(input(\"Enter the value of 1st variable \",))\n",
    "b=float(input(\"Enter the value of 2nd variable \",))\n",
    "\n",
    "#value of the variable before swapping\n",
    "print(\"Values of the variables before swapping\")\n",
    "print(\"Value of a is \",a)\n",
    "print(\"Value of b is \",b)\n",
    "\n",
    "#value of the variable after swapping\n",
    "a,b = b,a\n",
    "\n",
    "print(\"Values of the variables After swapping\")\n",
    "print(\"Value of a is \",a)\n",
    "print(\"Value of b is \",b)\n"
   ]
  },
  {
   "cell_type": "code",
   "execution_count": null,
   "id": "0ddc36ce",
   "metadata": {},
   "outputs": [],
   "source": [
    "5. Write a Python program to generate a random number?"
   ]
  },
  {
   "cell_type": "code",
   "execution_count": 16,
   "id": "a7d69ef2",
   "metadata": {},
   "outputs": [
    {
     "name": "stdout",
     "output_type": "stream",
     "text": [
      "The random number is 54\n"
     ]
    }
   ],
   "source": [
    "ANS:\n",
    "import random\n",
    "\n",
    "a = random.randint(0,100)\n",
    "print(\"The random number is\" ,a)"
   ]
  }
 ],
 "metadata": {
  "kernelspec": {
   "display_name": "Python 3",
   "language": "python",
   "name": "python3"
  },
  "language_info": {
   "codemirror_mode": {
    "name": "ipython",
    "version": 3
   },
   "file_extension": ".py",
   "mimetype": "text/x-python",
   "name": "python",
   "nbconvert_exporter": "python",
   "pygments_lexer": "ipython3",
   "version": "3.8.8"
  }
 },
 "nbformat": 4,
 "nbformat_minor": 5
}
